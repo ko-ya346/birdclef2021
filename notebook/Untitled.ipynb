{
 "cells": [
  {
   "cell_type": "code",
   "execution_count": 1,
   "id": "c73852d2",
   "metadata": {
    "ExecuteTime": {
     "end_time": "2021-05-15T06:45:44.362140Z",
     "start_time": "2021-05-15T06:45:44.355353Z"
    }
   },
   "outputs": [],
   "source": [
    "class Test:\n",
    "    def __init__(self, name='tanaka'):\n",
    "        self.name = name"
   ]
  },
  {
   "cell_type": "code",
   "execution_count": 5,
   "id": "d1c424e1",
   "metadata": {
    "ExecuteTime": {
     "end_time": "2021-05-15T06:46:42.696393Z",
     "start_time": "2021-05-15T06:46:42.694447Z"
    }
   },
   "outputs": [],
   "source": [
    "params = {'length': 100, 'weight': 50}\n",
    "test = Test(params)"
   ]
  },
  {
   "cell_type": "code",
   "execution_count": 6,
   "id": "6c445632",
   "metadata": {
    "ExecuteTime": {
     "end_time": "2021-05-15T06:46:46.122956Z",
     "start_time": "2021-05-15T06:46:46.117578Z"
    }
   },
   "outputs": [
    {
     "data": {
      "text/plain": [
       "{'name': {'length': 100, 'weight': 50}}"
      ]
     },
     "execution_count": 6,
     "metadata": {},
     "output_type": "execute_result"
    }
   ],
   "source": [
    "vars(test)"
   ]
  },
  {
   "cell_type": "code",
   "execution_count": null,
   "id": "a5da606c",
   "metadata": {},
   "outputs": [],
   "source": []
  }
 ],
 "metadata": {
  "kernelspec": {
   "display_name": "Python 3",
   "language": "python",
   "name": "python3"
  },
  "language_info": {
   "codemirror_mode": {
    "name": "ipython",
    "version": 3
   },
   "file_extension": ".py",
   "mimetype": "text/x-python",
   "name": "python",
   "nbconvert_exporter": "python",
   "pygments_lexer": "ipython3",
   "version": "3.8.5"
  },
  "toc": {
   "base_numbering": 1,
   "nav_menu": {},
   "number_sections": true,
   "sideBar": true,
   "skip_h1_title": false,
   "title_cell": "Table of Contents",
   "title_sidebar": "Contents",
   "toc_cell": false,
   "toc_position": {},
   "toc_section_display": true,
   "toc_window_display": false
  }
 },
 "nbformat": 4,
 "nbformat_minor": 5
}
